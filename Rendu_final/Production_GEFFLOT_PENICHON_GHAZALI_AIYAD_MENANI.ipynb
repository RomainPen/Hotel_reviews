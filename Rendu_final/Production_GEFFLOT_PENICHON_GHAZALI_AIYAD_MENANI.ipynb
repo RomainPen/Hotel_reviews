{
 "cells": [
  {
   "cell_type": "markdown",
   "id": "42d808af",
   "metadata": {},
   "source": [
    "<div style=\"display: flex; background-color: RGB(119, 150, 203);\">\n",
    "    <h1 style=\"margin: auto; padding: 30px 30px 30px 30px; color: RGB(255,255,255);\"> \n",
    "        <center>\n",
    "            <b>Algorithmique et Python</b><br/>\n",
    "            <u>PROD : The TripAdvisor Hotel Project<br/> \n",
    "        </center>\n",
    "        <br/>\n",
    "        <p style=\"text-align:center;\">\n",
    "            <img src=\"https://static.tacdn.com/img2/brand_refresh/Tripadvisor_lockup_horizontal_secondary_registered.svg\" alt=\"TripAdvisor logo\" width=\"400\" height=\"400\" align=\"center\">\n",
    "        </p>\n",
    "        <center>\n",
    "            Réalisé par Claire Gefflot, Romain Pénichon,<br/> Mohamed Ghazali, Mehdi Aiyad et Abdelkabir Menani<br/>\n",
    "        </center>        \n",
    "</div>"
   ]
  },
  {
   "cell_type": "markdown",
   "id": "d791ebc8",
   "metadata": {
    "jp-MarkdownHeadingCollapsed": true,
    "tags": []
   },
   "source": [
    "<a class=\"anchor\" id=\"table_of_contents\"></a>\n",
    "## Table of contents\n",
    "\n",
    "* [Chapitre 1 : Chapitre 1 : Importation des modèles (sentiment et NER) et mise en place des fonctions pour la mise en production](#chapter1)\n",
    "<br>\n",
    "* [Chapitre 2 : Analyse statistique des avis d'hôtels : ce que les clients apprécient et ce qui peut être amélioré](#chapter2)\n",
    "<br>"
   ]
  },
  {
   "cell_type": "markdown",
   "id": "e8fadf3e",
   "metadata": {},
   "source": [
    "<a class=\"anchor\" id=\"chapter1\"></a>\n",
    "<div style=\"background-color: RGB(119, 150, 203);\" >\n",
    "<h2 style=\"margin: auto; padding: 20px; color:#fff; \">Chapitre 1 : Importation des modèles (sentiment et NER) et mise en place des fonctions pour la mise en production</h2>\n",
    "</div>"
   ]
  },
  {
   "cell_type": "markdown",
   "id": "523e4c81",
   "metadata": {},
   "source": [
    "La mise en place de ces fonctions vont nous permettre d'appliquer les modèles de sentiment et de NER sur les différents commentaires de l'hôtel. On aura en output quatre nouvelle colonnes (en plus de la database qui est importée) : 2 colonnes dont une pour les \"points forts\"(fort) et une pour les \"points faibles\"(faible) (par éléments, ex : bed, staff, etc...). 2 colonnes dont une pour les compliments (fort_score) et une pour les critiques (faible_score), chaque catégorie(bedroom, bathroom, service, restaurant, location, price) aura un score par commentaire (ex : Pour la colonne fort_score, si dans le commentaire il y a 3 mots qui appartiennent à la catégorie \"bedroom\" et 0 mot pour les autres catégories, alors on attribura un score de 3 pour la catégorie bedroom et 0 pour les autres catégories). Ces résultats seront ensuite utilisés pour faire des analyses statistiques.\n",
    "\n",
    "On a décidé de lancer l'algorithme seulement sur les 30 premier commentaires car la procédure risque d'être trop longue."
   ]
  },
  {
   "cell_type": "code",
   "execution_count": null,
   "id": "0b0f5240",
   "metadata": {},
   "outputs": [],
   "source": [
    "#Importation de la donnée\n",
    "import pandas as pd\n",
    "path = '...\\\\Data\\\\'\n",
    "df = pd.read_excel(path + 'reviews_google.xlsx').drop('index', axis=1)"
   ]
  },
  {
   "cell_type": "code",
   "execution_count": 3,
   "id": "f8f87334",
   "metadata": {
    "collapsed": true
   },
   "outputs": [
    {
     "ename": "NameError",
     "evalue": "name 'df' is not defined",
     "output_type": "error",
     "traceback": [
      "\u001b[1;31m---------------------------------------------------------------------------\u001b[0m",
      "\u001b[1;31mNameError\u001b[0m                                 Traceback (most recent call last)",
      "Input \u001b[1;32mIn [3]\u001b[0m, in \u001b[0;36m<cell line: 2>\u001b[1;34m()\u001b[0m\n\u001b[0;32m      1\u001b[0m \u001b[38;5;66;03m#On va appliquer seulment sur les 30 premiere observations\u001b[39;00m\n\u001b[1;32m----> 2\u001b[0m df2 \u001b[38;5;241m=\u001b[39m \u001b[43mdf\u001b[49m\u001b[38;5;241m.\u001b[39miloc[:\u001b[38;5;241m20\u001b[39m,:]\n\u001b[0;32m      3\u001b[0m df2\n",
      "\u001b[1;31mNameError\u001b[0m: name 'df' is not defined"
     ]
    }
   ],
   "source": [
    "#On va appliquer seulment sur les 30 premiere observations\n",
    "df2 = df.iloc[:20,:]\n",
    "df2"
   ]
  },
  {
   "cell_type": "code",
   "execution_count": null,
   "id": "fadada5e",
   "metadata": {},
   "outputs": [],
   "source": [
    "import os\n",
    "os.environ[\"KMP_DUPLICATE_LIB_OK\"]=\"TRUE\""
   ]
  },
  {
   "cell_type": "code",
   "execution_count": null,
   "id": "b9b3ca51",
   "metadata": {},
   "outputs": [],
   "source": [
    "from transformers import BertTokenizer\n",
    "import torch\n",
    "import onnx\n",
    "import onnxruntime as ort\n",
    "\n",
    "class_names = ['positive','negative', 'neutral']\n",
    "PRE_TRAINED_MODEL_NAME = 'bert-base-cased'\n",
    "tokenizer = BertTokenizer.from_pretrained(PRE_TRAINED_MODEL_NAME)"
   ]
  },
  {
   "cell_type": "code",
   "execution_count": null,
   "id": "cb3dd1f6",
   "metadata": {},
   "outputs": [],
   "source": [
    "ort_sess = ort.InferenceSession('...\\\\modele_sentiment_BERT\\\\torch-model.onnx')\n"
   ]
  },
  {
   "cell_type": "code",
   "execution_count": null,
   "id": "08a87057",
   "metadata": {},
   "outputs": [],
   "source": [
    "def infer_onnx_model(review_text__):\n",
    "    encoded_review = tokenizer.encode_plus(\n",
    "                              review_text__,\n",
    "                              max_length=512,\n",
    "                              add_special_tokens=True,\n",
    "                              return_token_type_ids=False,\n",
    "                              pad_to_max_length=True,\n",
    "                              return_attention_mask=True,\n",
    "                              return_tensors='pt',\n",
    "                            )\n",
    "    outputs = ort_sess.run(None, {'input_ids': encoded_review['input_ids'].cpu().detach().numpy(),\n",
    "                              'attention_mask':encoded_review['attention_mask'].cpu().detach().numpy()})\n",
    "    outputs = torch.from_numpy(outputs[0])\n",
    "    _, prediction = torch.max(outputs, dim=1)\n",
    "    return class_names[prediction]"
   ]
  },
  {
   "cell_type": "code",
   "execution_count": null,
   "id": "1d2eeddd",
   "metadata": {},
   "outputs": [],
   "source": [
    "#list of point fort and point faible : \n",
    "import numpy as np\n",
    "import re\n",
    "\n",
    "\n",
    "#NER BERT :\n",
    "from simpletransformers.ner import NERModel,NERArgs\n",
    "from simpletransformers.ner import NERModel\n",
    "\n",
    "#le path pour charger le modèle\n",
    "path_BERT_NER ='...\\\\modele_NER_BERT\\\\NER_BERT_Model'\n",
    "model2 = NERModel(\"bert\", path_BERT_NER, use_cuda=False)\n",
    "\n",
    "#Ce code définit une fonction fort_faible() qui prend en argument une chaîne de caractères text et qui renvoie une liste de \n",
    "#dictionnaires contenant des mots et leurs étiquettes de nommage d'entités.\n",
    "def fort_faible(text : str) :\n",
    "    text = text.lower() #la chaîne de caractères est convertie en minuscule\n",
    "    #on séprare en différentes phrases en utilisant une expression régulière\n",
    "    text = re.split(r'[\\.!?;,]| but | whereas | yet | althought | though | still | furthermore | moreover | even though | on the other hand | in spite of ', text)\n",
    "    #Ensuite, la fonction crée une liste vide appelée list_word qui sera utilisée pour stocker les mots et leurs étiquettes.\n",
    "    list_word = []\n",
    "    \n",
    "    #Pour chaque phrase dans text, la fonction calcule un score de sentiment en utilisant le modèle model et en appelant la \n",
    "    #méthode polarity_scores(). Si le score est supérieur à 0,3, la fonction crée un nouveau modèle appelé model2 qui sera \n",
    "    #utilisé pour détecter les entités nommées dans la phrase. La fonction utilise alors le modèle model2 pour prédire les entités \n",
    "    #nommées dans la phrase et stocke le résultat dans une variable pred.\n",
    "    for phrase in text :\n",
    "        score = infer_onnx_model(phrase) \n",
    "        \n",
    "        if score == 'positive' :\n",
    "            prediction, model_output = model2.predict([phrase])\n",
    "            pred = prediction\n",
    "            \n",
    "            #Enfin, la fonction itère sur chaque mot et étiquette dans pred et ajoute le mot et son étiquette à la liste \n",
    "            #list_word s'il n'est pas marqué comme \"O\", c'est-à-dire s'il n'est pas une entité nommée.\n",
    "            i=0\n",
    "            while i < len(pred[0]) :\n",
    "                word, label = pred[0][i].popitem()\n",
    "                word_label = {}\n",
    "                \n",
    "                if label != 'O':\n",
    "                    word_label[word] = label\n",
    "                    list_word.append(word_label) \n",
    "                i+=1\n",
    "                \n",
    "    #La fonction renvoie finalement list_word.           \n",
    "    return list_word \n",
    " \n",
    "df2['fort'] = df2['review'].apply(fort_faible)\n",
    "\n",
    "\n",
    "\n",
    "\n",
    "\n",
    "#Même commentaire que pour la fonction fort_faible, sauf que là on classe les points faibles\n",
    "def fort_faible2(text : list) :\n",
    "    text = text.lower()\n",
    "    text = re.split(r'[\\.!?;,]| but | whereas | yet | althought | though | still | furthermore | moreover | even though | on the other hand | in spite of ', text)\n",
    "    list_word = []\n",
    "    \n",
    "    for phrase in text :\n",
    "        score = infer_onnx_model(phrase) \n",
    "        \n",
    "        if score == 'negative' :\n",
    "            prediction, model_output = model2.predict([phrase])\n",
    "            pred = prediction\n",
    "            \n",
    "            i=0\n",
    "            while i < len(pred[0]) :\n",
    "                word, label = pred[0][i].popitem()\n",
    "                word_label = {}\n",
    "                    \n",
    "                if label != 'O':\n",
    "                    word_label[word] = label\n",
    "                    list_word.append(word_label) \n",
    "            \n",
    "                i+=1\n",
    "                \n",
    "    return list_word \n",
    "\n",
    "df2['faible'] = df2['review'].apply(fort_faible2)\n"
   ]
  },
  {
   "cell_type": "code",
   "execution_count": null,
   "id": "498aa711",
   "metadata": {},
   "outputs": [],
   "source": [
    "def group_point(word_list): #e code définit une fonction group_point qui prend en entrée une liste de mots (word_list).\n",
    "    #La fonction initialise plusieurs variables à 0 (bedroom, bathroom, service, location, restaurant, price) qui serviront à compter le nombre d'occurrences de chaque mot dans la liste.\n",
    "    bedroom = 0\n",
    "    bathroom = 0\n",
    "    service = 0\n",
    "    location = 0\n",
    "    restaurant = 0\n",
    "    price = 0\n",
    "    \n",
    "    #La fonction définit également un dictionnaire vide (Dict_score) qui sera utilisé pour stocker le résultat final.\n",
    "    Dict_score = {}\n",
    "    \n",
    "    #Ensuite, la fonction itère sur chaque mot de la liste (for i in word_list) et utilise la fonction next() avec l'itérable \n",
    "    #iter(i) pour récupérer la première clé du dictionnaire i. Le label de chaque mot est alors récupéré en accédant à la valeur associée à cette clé \n",
    "    for i in word_list :\n",
    "        label = i[next(iter(i))]\n",
    "        #Ensuite, la fonction utilise une série d'instructions if-elif pour incrémenter le compteur associé à chaque mot (bedroom, bathroom, service, etc.) \n",
    "        #en fonction de sa catégorie (bedroom, bathroom, service, etc.).\n",
    "        if label == \"bedroom\" :\n",
    "            bedroom = bedroom + 1\n",
    "        elif label == \"bathroom\":\n",
    "            bathroom = bathroom + 1\n",
    "        elif label == \"service\":\n",
    "            service = service + 1\n",
    "        elif label == \"location\":\n",
    "            location = location + 1\n",
    "        elif label == \"restaurant\":\n",
    "            restaurant = restaurant + 1\n",
    "        elif label == \"price\":\n",
    "            price = price + 1\n",
    "    \n",
    "    #Enfin, la fonction utilise la méthode update() du dictionnaire Dict_score pour ajouter les compteurs de chaque mot dans le dictionnaire résultat.\n",
    "    Dict_score.update({\"bedroom\" : bedroom, \"bathroom\": bathroom, \"service\": service, \"location\": location, \"restaurant\": restaurant, \"price\": price}) \n",
    "    \n",
    "    #La fonction retourne ce dictionnaire en fin d'exécution.\n",
    "    return Dict_score  \n",
    "  \n",
    "df2['fort_score'] = df2['fort'].apply(group_point)\n",
    "df2['faible_score'] = df2['faible'].apply(group_point)"
   ]
  },
  {
   "cell_type": "code",
   "execution_count": null,
   "id": "b707cc71",
   "metadata": {},
   "outputs": [],
   "source": [
    "#df2.to_excel('.../Data/hotel_review_result_output.xlsx')"
   ]
  },
  {
   "cell_type": "markdown",
   "id": "ba7f5eff",
   "metadata": {},
   "source": [
    "<a class=\"anchor\" id=\"chapter2\"></a>\n",
    "<div style=\"background-color: RGB(119, 150, 203);\" >\n",
    "<h2 style=\"margin: auto; padding: 20px; color:#fff; \">Chapitre 2 : Analyse statistique des avis d'hôtels : ce que les clients apprécient et ce qui peut être amélioré</h2>\n",
    "</div>"
   ]
  },
  {
   "cell_type": "markdown",
   "id": "2a205064-145d-4a00-a954-e319bc902f96",
   "metadata": {},
   "source": [
    "L'analyse statistique est une technique utilisée pour résumer, interpréter et comprendre les données. Elle permet de découvrir des relations, des tendances et des patterns dans les données, et d'utiliser ces informations pour prendre des décisions ou faire des prévisions. L'analyse statistique peut être très utile pour un hôtel, car elle peut lui fournir de précieuses informations sur ce que pensent les clients de l'hôtel et sur les aspects de l'hôtel qui sont les plus appréciés ou qui ont besoin d'amélioration. Elle peut également aider l'hôtel à mieux comprendre les tendances dans les avis des clients et à prendre des décisions éclairées sur la façon de gérer l'hôtel pour améliorer l'expérience des clients."
   ]
  },
  {
   "cell_type": "code",
   "execution_count": 137,
   "id": "3965c6b8-14ae-40e1-acaf-0b578e2ab79b",
   "metadata": {},
   "outputs": [],
   "source": [
    "#ICI, df2 = hotel_review_result_output.xlsx\n",
    "\n",
    "import pandas as pd\n",
    "df = pd.read_excel('.../Data/hotel_review_result_output.xlsx')"
   ]
  },
  {
   "cell_type": "code",
   "execution_count": 183,
   "id": "59022fbd-6318-489d-9947-62eb616d6ffc",
   "metadata": {},
   "outputs": [
    {
     "data": {
      "text/html": [
       "<div>\n",
       "<style scoped>\n",
       "    .dataframe tbody tr th:only-of-type {\n",
       "        vertical-align: middle;\n",
       "    }\n",
       "\n",
       "    .dataframe tbody tr th {\n",
       "        vertical-align: top;\n",
       "    }\n",
       "\n",
       "    .dataframe thead th {\n",
       "        text-align: right;\n",
       "    }\n",
       "</style>\n",
       "<table border=\"1\" class=\"dataframe\">\n",
       "  <thead>\n",
       "    <tr style=\"text-align: right;\">\n",
       "      <th></th>\n",
       "      <th>Unnamed: 0</th>\n",
       "      <th>title</th>\n",
       "      <th>review</th>\n",
       "      <th>rate</th>\n",
       "      <th>trip_type</th>\n",
       "      <th>date</th>\n",
       "      <th>fort</th>\n",
       "      <th>faible</th>\n",
       "      <th>fort_score</th>\n",
       "      <th>faible_score</th>\n",
       "    </tr>\n",
       "  </thead>\n",
       "  <tbody>\n",
       "    <tr>\n",
       "      <th>0</th>\n",
       "      <td>0</td>\n",
       "      <td>small room but okey</td>\n",
       "      <td>this hotel has the smallest room, and we have ...</td>\n",
       "      <td>4</td>\n",
       "      <td>traveled as a couple</td>\n",
       "      <td>2022-11-01</td>\n",
       "      <td>[{'check': 'service'}, {'location': 'location'...</td>\n",
       "      <td>[]</td>\n",
       "      <td>{'bedroom': 0, 'bathroom': 0, 'service': 1, 'l...</td>\n",
       "      <td>{'bedroom': 0, 'bathroom': 0, 'service': 0, 'l...</td>\n",
       "    </tr>\n",
       "    <tr>\n",
       "      <th>1</th>\n",
       "      <td>1</td>\n",
       "      <td>great location, great staff</td>\n",
       "      <td>great location and simple but clean ammenities...</td>\n",
       "      <td>5</td>\n",
       "      <td>traveled on business</td>\n",
       "      <td>2022-10-01</td>\n",
       "      <td>[{'location': 'location'}, {'staff': 'service'...</td>\n",
       "      <td>[]</td>\n",
       "      <td>{'bedroom': 2, 'bathroom': 0, 'service': 1, 'l...</td>\n",
       "      <td>{'bedroom': 0, 'bathroom': 0, 'service': 0, 'l...</td>\n",
       "    </tr>\n",
       "  </tbody>\n",
       "</table>\n",
       "</div>"
      ],
      "text/plain": [
       "   Unnamed: 0                        title  \\\n",
       "0           0          small room but okey   \n",
       "1           1  great location, great staff   \n",
       "\n",
       "                                              review  rate  \\\n",
       "0  this hotel has the smallest room, and we have ...     4   \n",
       "1  great location and simple but clean ammenities...     5   \n",
       "\n",
       "              trip_type       date  \\\n",
       "0  traveled as a couple 2022-11-01   \n",
       "1  traveled on business 2022-10-01   \n",
       "\n",
       "                                                fort faible  \\\n",
       "0  [{'check': 'service'}, {'location': 'location'...     []   \n",
       "1  [{'location': 'location'}, {'staff': 'service'...     []   \n",
       "\n",
       "                                          fort_score  \\\n",
       "0  {'bedroom': 0, 'bathroom': 0, 'service': 1, 'l...   \n",
       "1  {'bedroom': 2, 'bathroom': 0, 'service': 1, 'l...   \n",
       "\n",
       "                                        faible_score  \n",
       "0  {'bedroom': 0, 'bathroom': 0, 'service': 0, 'l...  \n",
       "1  {'bedroom': 0, 'bathroom': 0, 'service': 0, 'l...  "
      ]
     },
     "execution_count": 183,
     "metadata": {},
     "output_type": "execute_result"
    }
   ],
   "source": [
    "df.head(2)"
   ]
  },
  {
   "cell_type": "code",
   "execution_count": 187,
   "id": "08597187-2af9-4817-99ba-1a518d2830b2",
   "metadata": {},
   "outputs": [],
   "source": [
    "import matplotlib.pyplot as plt\n",
    "\n",
    "def plot_rate_column(data):\n",
    "    # Extract the rate column from the data\n",
    "    rate_column = data['rate']\n",
    "\n",
    "    # Create a histogram plot of the rate column\n",
    "    plt.hist(rate_column, color='c')\n",
    "    plt.xlabel('Note')\n",
    "    plt.ylabel('Nombre de commentaire')\n",
    "    plt.title('Distribution des notes')\n",
    "    plt.show()\n"
   ]
  },
  {
   "cell_type": "code",
   "execution_count": 188,
   "id": "797f7d19-d518-47e8-a994-1c33d0fde1b9",
   "metadata": {},
   "outputs": [
    {
     "data": {
      "image/png": "[encoded data removed]",
      "text/plain": [
       "<Figure size 640x480 with 1 Axes>"
      ]
     },
     "metadata": {},
     "output_type": "display_data"
    }
   ],
   "source": [
    "plot_rate_column(df)"
   ]
  },
  {
   "cell_type": "code",
   "execution_count": 141,
   "id": "02ab21b8-ec4b-49c8-8599-0c6d92327ecf",
   "metadata": {},
   "outputs": [],
   "source": [
    "def plot_trip_type_column(data):\n",
    "  # Extract the trip_type column from the data\n",
    "  trip_type_column = data['trip_type']\n",
    "\n",
    "  # Create a pie chart plot of the trip_type column\n",
    "  trip_type_counts = trip_type_column.value_counts()\n",
    "  plt.pie(trip_type_counts, labels=trip_type_counts.index, autopct='%1.1f%%', textprops={'color':'black'})\n",
    "  plt.title('Trip Types',fontweight='bold')\n",
    "  plt.show()\n"
   ]
  },
  {
   "cell_type": "code",
   "execution_count": 142,
   "id": "dc9d543a-9f8b-46e6-a94b-137f7a735b6e",
   "metadata": {},
   "outputs": [
    {
     "data": {
      "image/png": "[encoded data removed]",
      "text/plain": [
       "<Figure size 640x480 with 1 Axes>"
      ]
     },
     "metadata": {},
     "output_type": "display_data"
    }
   ],
   "source": [
    "plot_trip_type_column(df)"
   ]
  },
  {
   "cell_type": "code",
   "execution_count": 191,
   "id": "1497d142-c26d-4ab6-82ff-f9c8b1d3af76",
   "metadata": {},
   "outputs": [
    {
     "data": {
      "image/png": "[encoded data removed]",
      "text/plain": [
       "<Figure size 640x480 with 1 Axes>"
      ]
     },
     "metadata": {},
     "output_type": "display_data"
    }
   ],
   "source": [
    "# Score_fort\n",
    "\n",
    "import ast\n",
    "import matplotlib.pyplot as plt\n",
    "\n",
    "def count_keywords_fort(df):\n",
    "    keywords_count = {}\n",
    "    \n",
    "    for index, row in df.iterrows():\n",
    "        # Convertir la valeur de la colonne fort_score en dictionnaire\n",
    "        score = ast.literal_eval(row['fort_score'])\n",
    "        \n",
    "        for keyword, count in score.items():\n",
    "            if keyword not in keywords_count:\n",
    "                keywords_count[keyword] = 0\n",
    "            keywords_count[keyword] += count\n",
    "    \n",
    "    return keywords_count\n",
    "\n",
    "# Compter le nombre d'apparitions de chaque mot-clé\n",
    "keywords_count_fort = count_keywords_fort(df)\n",
    "\n",
    "# Récupérer les mots-clés et leur nombre d'apparitions sous forme de listes\n",
    "keywords = list(keywords_count_fort.keys())\n",
    "counts = list(keywords_count_fort.values())\n",
    "\n",
    "# Créer l'histogramme\n",
    "plt.bar(keywords, counts, color='g', alpha=0.5, label='Keywords')\n",
    "\n",
    "# Ajouter le nombre d'apparitions de chaque mot-clé sur chaque barre\n",
    "for i, v in enumerate(counts):\n",
    "    # Centrer le texte sur la barre\n",
    "    plt.text(i, v, str(v), ha='center')\n",
    "\n",
    "# Ajouter un titre et des étiquettes aux axes\n",
    "plt.title(\"Nombre d'apparitions des points forts de l'hôtel\")\n",
    "plt.xlabel(\"Points forts\")\n",
    "plt.ylabel(\"Nombre d'apparitions\")\n",
    "\n",
    "# Afficher l'histogramme\n",
    "plt.show()"
   ]
  },
  {
   "cell_type": "code",
   "execution_count": 192,
   "id": "89eb3a36-b85d-4f49-9341-c3e091cd4ea9",
   "metadata": {
    "scrolled": true
   },
   "outputs": [
    {
     "data": {
      "image/png": "[encoded data removed]",
      "text/plain": [
       "<Figure size 640x480 with 1 Axes>"
      ]
     },
     "metadata": {},
     "output_type": "display_data"
    }
   ],
   "source": [
    "# Score_faible\n",
    "\n",
    "import ast\n",
    "import matplotlib.pyplot as plt\n",
    "\n",
    "def count_keywords_faible(df):\n",
    "    keywords_count = {}\n",
    "    \n",
    "    for index, row in df.iterrows():\n",
    "        # Convertir la valeur de la colonne fort_score en dictionnaire\n",
    "        score = ast.literal_eval(row['faible_score'])\n",
    "        \n",
    "        for keyword, count in score.items():\n",
    "            if keyword not in keywords_count:\n",
    "                keywords_count[keyword] = 0\n",
    "            keywords_count[keyword] += count\n",
    "    \n",
    "    return keywords_count\n",
    "\n",
    "# Compter le nombre d'apparitions de chaque mot-clé\n",
    "keywords_count_faible = count_keywords_faible(df)\n",
    "\n",
    "# Récupérer les mots-clés et leur nombre d'apparitions sous forme de listes\n",
    "keywords = list(keywords_count_faible.keys())\n",
    "counts = list(keywords_count_faible.values())\n",
    "\n",
    "# Créer l'histogramme\n",
    "plt.bar(keywords, counts, color='r', alpha=0.5, label='Keywords')\n",
    "\n",
    "# Ajouter le nombre d'apparitions de chaque mot-clé sur chaque barre\n",
    "for i, v in enumerate(counts):\n",
    "    # Centrer le texte sur la barre\n",
    "    plt.text(i, v, str(v), ha='center')\n",
    "\n",
    "# Ajouter un titre et des étiquettes aux axes\n",
    "plt.title(\"Nombre d'apparitions des points faibles de l'hôtel\")\n",
    "plt.xlabel(\"Points faibles\")\n",
    "plt.ylabel(\"Nombre d'apparitions\")\n",
    "\n",
    "# Afficher l'histogramme\n",
    "plt.show()"
   ]
  },
  {
   "cell_type": "markdown",
   "id": "5da5645c",
   "metadata": {},
   "source": [
    "## Comparing the occurences of positive and negative elements in the hotel"
   ]
  },
  {
   "cell_type": "code",
   "execution_count": 312,
   "id": "978befd9",
   "metadata": {},
   "outputs": [
    {
     "data": {
      "text/html": [
       "<div>\n",
       "<style scoped>\n",
       "    .dataframe tbody tr th:only-of-type {\n",
       "        vertical-align: middle;\n",
       "    }\n",
       "\n",
       "    .dataframe tbody tr th {\n",
       "        vertical-align: top;\n",
       "    }\n",
       "\n",
       "    .dataframe thead th {\n",
       "        text-align: right;\n",
       "    }\n",
       "</style>\n",
       "<table border=\"1\" class=\"dataframe\">\n",
       "  <thead>\n",
       "    <tr style=\"text-align: right;\">\n",
       "      <th></th>\n",
       "      <th>Unnamed: 0</th>\n",
       "      <th>title</th>\n",
       "      <th>review</th>\n",
       "      <th>rate</th>\n",
       "      <th>trip_type</th>\n",
       "      <th>date</th>\n",
       "      <th>fort</th>\n",
       "      <th>faible</th>\n",
       "      <th>fort_score</th>\n",
       "      <th>faible_score</th>\n",
       "    </tr>\n",
       "  </thead>\n",
       "  <tbody>\n",
       "    <tr>\n",
       "      <th>0</th>\n",
       "      <td>0</td>\n",
       "      <td>small room but okey</td>\n",
       "      <td>this hotel has the smallest room, and we have ...</td>\n",
       "      <td>4</td>\n",
       "      <td>traveled as a couple</td>\n",
       "      <td>2022-11-01</td>\n",
       "      <td>[{'check': 'service'}, {'location': 'location'...</td>\n",
       "      <td>[]</td>\n",
       "      <td>{'bedroom': 0, 'bathroom': 0, 'service': 1, 'l...</td>\n",
       "      <td>{'bedroom': 0, 'bathroom': 0, 'service': 0, 'l...</td>\n",
       "    </tr>\n",
       "    <tr>\n",
       "      <th>1</th>\n",
       "      <td>1</td>\n",
       "      <td>great location, great staff</td>\n",
       "      <td>great location and simple but clean ammenities...</td>\n",
       "      <td>5</td>\n",
       "      <td>traveled on business</td>\n",
       "      <td>2022-10-01</td>\n",
       "      <td>[{'location': 'location'}, {'staff': 'service'...</td>\n",
       "      <td>[]</td>\n",
       "      <td>{'bedroom': 2, 'bathroom': 0, 'service': 1, 'l...</td>\n",
       "      <td>{'bedroom': 0, 'bathroom': 0, 'service': 0, 'l...</td>\n",
       "    </tr>\n",
       "  </tbody>\n",
       "</table>\n",
       "</div>"
      ],
      "text/plain": [
       "   Unnamed: 0                        title  \\\n",
       "0           0          small room but okey   \n",
       "1           1  great location, great staff   \n",
       "\n",
       "                                              review  rate  \\\n",
       "0  this hotel has the smallest room, and we have ...     4   \n",
       "1  great location and simple but clean ammenities...     5   \n",
       "\n",
       "              trip_type       date  \\\n",
       "0  traveled as a couple 2022-11-01   \n",
       "1  traveled on business 2022-10-01   \n",
       "\n",
       "                                                fort faible  \\\n",
       "0  [{'check': 'service'}, {'location': 'location'...     []   \n",
       "1  [{'location': 'location'}, {'staff': 'service'...     []   \n",
       "\n",
       "                                          fort_score  \\\n",
       "0  {'bedroom': 0, 'bathroom': 0, 'service': 1, 'l...   \n",
       "1  {'bedroom': 2, 'bathroom': 0, 'service': 1, 'l...   \n",
       "\n",
       "                                        faible_score  \n",
       "0  {'bedroom': 0, 'bathroom': 0, 'service': 0, 'l...  \n",
       "1  {'bedroom': 0, 'bathroom': 0, 'service': 0, 'l...  "
      ]
     },
     "execution_count": 312,
     "metadata": {},
     "output_type": "execute_result"
    }
   ],
   "source": [
    "df.head(2)"
   ]
  },
  {
   "cell_type": "code",
   "execution_count": 313,
   "id": "ab52cda3",
   "metadata": {},
   "outputs": [],
   "source": [
    "df.fort_score=df.fort_score.apply(lambda x:ast.literal_eval(x) )\n",
    "df.faible_score=df.faible_score.apply(lambda x:ast.literal_eval(x) )"
   ]
  },
  {
   "cell_type": "code",
   "execution_count": 318,
   "id": "c64f19c6",
   "metadata": {},
   "outputs": [],
   "source": [
    "from collections import defaultdict\n",
    "\n",
    "# Initialize a dictionary with default values of 0\n",
    "fort_counts = defaultdict(int)\n",
    "\n",
    "# Iterate over the rows in the fort_score column\n",
    "for row in df['fort_score']:\n",
    "    for word, count in row.items():\n",
    "        # Update the count for each word\n",
    "        fort_counts[word] += count\n",
    "\n"
   ]
  },
  {
   "cell_type": "code",
   "execution_count": 317,
   "id": "db94d1cb",
   "metadata": {},
   "outputs": [],
   "source": [
    "from collections import defaultdict\n",
    "\n",
    "# Initialize a dictionary with default values of 0\n",
    "faible_counts = defaultdict(int)\n",
    "\n",
    "# Iterate over the rows in the fort_score column\n",
    "for row in df['faible_score']:\n",
    "    for word, count in row.items():\n",
    "        # Update the count for each word\n",
    "        faible_counts[word] += count\n",
    "\n"
   ]
  },
  {
   "cell_type": "code",
   "execution_count": 319,
   "id": "b12f7a20",
   "metadata": {},
   "outputs": [
    {
     "data": {
      "text/plain": [
       "defaultdict(int,\n",
       "            {'bedroom': 28,\n",
       "             'bathroom': 2,\n",
       "             'service': 14,\n",
       "             'location': 1,\n",
       "             'restaurant': 7,\n",
       "             'price': 3})"
      ]
     },
     "execution_count": 319,
     "metadata": {},
     "output_type": "execute_result"
    }
   ],
   "source": [
    "faible_counts"
   ]
  },
  {
   "cell_type": "code",
   "execution_count": 320,
   "id": "2797c8f8",
   "metadata": {},
   "outputs": [
    {
     "data": {
      "text/plain": [
       "defaultdict(int,\n",
       "            {'bedroom': 25,\n",
       "             'bathroom': 1,\n",
       "             'service': 8,\n",
       "             'location': 21,\n",
       "             'restaurant': 14,\n",
       "             'price': 1})"
      ]
     },
     "execution_count": 320,
     "metadata": {},
     "output_type": "execute_result"
    }
   ],
   "source": [
    "fort_counts"
   ]
  },
  {
   "cell_type": "code",
   "execution_count": 323,
   "id": "43610a59",
   "metadata": {
    "scrolled": false
   },
   "outputs": [
    {
     "data": {
      "image/png": "[encoded data removed]",
      "text/plain": [
       "<Figure size 720x432 with 1 Axes>"
      ]
     },
     "metadata": {
      "needs_background": "light"
     },
     "output_type": "display_data"
    }
   ],
   "source": [
    "import matplotlib.pyplot as plt\n",
    "plt.figure(figsize=(10,6))\n",
    "# Get the list of words\n",
    "words = list(faible_counts.keys())\n",
    "\n",
    "# Get the list of negative counts\n",
    "faible_counts_values = list(faible_counts.values())\n",
    "\n",
    "# Get the list of positive counts\n",
    "fort_counts_values = list(fort_counts.values())\n",
    "\n",
    "# Set the bar width\n",
    "bar_width = 0.4\n",
    "\n",
    "# Set the position of the bar\n",
    "r1 = [x for x in range(len(words))]\n",
    "r2 = [x + bar_width for x in r1]\n",
    "\n",
    "# Create the plot\n",
    "plt.bar(r1, faible_counts_values, width=bar_width, color='red', label='negative')\n",
    "plt.bar(r2, fort_counts_values, width=bar_width, color='green', label='positive')\n",
    "\n",
    "# Add the x-axis labels\n",
    "plt.xticks([r + bar_width/2 for r in r1], words)\n",
    "\n",
    "# Add a legend\n",
    "plt.legend()\n",
    "\n",
    "# Show the plot\n",
    "plt.show()\n"
   ]
  },
  {
   "cell_type": "code",
   "execution_count": null,
   "id": "5ce84d5f",
   "metadata": {},
   "outputs": [],
   "source": []
  }
 ],
 "metadata": {
  "kernelspec": {
   "display_name": "Python 3 (ipykernel)",
   "language": "python",
   "name": "python3"
  },
  "language_info": {
   "codemirror_mode": {
    "name": "ipython",
    "version": 3
   },
   "file_extension": ".py",
   "mimetype": "text/x-python",
   "name": "python",
   "nbconvert_exporter": "python",
   "pygments_lexer": "ipython3",
   "version": "3.9.12"
  }
 },
 "nbformat": 4,
 "nbformat_minor": 5
}
